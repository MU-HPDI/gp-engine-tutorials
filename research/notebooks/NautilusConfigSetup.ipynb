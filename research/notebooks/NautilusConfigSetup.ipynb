{
 "cells": [
  {
   "cell_type": "markdown",
   "id": "0d142738-4eac-4565-9953-cea23973831f",
   "metadata": {},
   "source": [
    "# Nautilus Config Setup\n",
    "\n",
    "This notebook will help ensure you have successfully setup your Nautilus config\n"
   ]
  },
  {
   "cell_type": "markdown",
   "id": "5f071755-d764-46f9-9013-f75ab64760df",
   "metadata": {},
   "source": [
    "## Step 1: Upload You Config\n",
    "\n",
    "From the Jupyter Lab interface, click on the Upload symbol, and select the config you have downloaded from the NRP portal"
   ]
  },
  {
   "cell_type": "markdown",
   "id": "c47f8e2e-1120-4733-8b02-b02cd8ffab07",
   "metadata": {},
   "source": [
    "<img src=\"./UploadJupyter.png\" />"
   ]
  },
  {
   "cell_type": "markdown",
   "id": "a198f865-8517-4802-a2cc-2439966e565b",
   "metadata": {},
   "source": [
    "\n",
    "## Step 2: Getting the Path\n",
    "\n",
    "First we will check if the config has been uploaded or placed in the home directory of our Jupyter Environment:"
   ]
  },
  {
   "cell_type": "code",
   "execution_count": null,
   "id": "7b461484-7a17-4ccb-a413-6a73102ef3f2",
   "metadata": {},
   "outputs": [],
   "source": [
    "from pathlib import Path\n",
    "\n",
    "cfg_path = Path.home().resolve() / \"config\"\n",
    "\n",
    "if cfg_path.is_file():\n",
    "    print(f\"Found config: {cfg_path}\")\n",
    "else: \n",
    "    cfg_dir = input(\"Enter directory with config: \")\n",
    "    cfg_path = Path(cfg_dir).resolve() / \"config\"\n",
    "    if cfg_path.is_file():\n",
    "        print(f\"Found config: {cfg_path}\")\n",
    "    else:\n",
    "        print(\"ERROR: Re-run this cell and give correct directory\")"
   ]
  },
  {
   "cell_type": "markdown",
   "id": "2ab9c626-3546-4570-bd21-558cba589feb",
   "metadata": {},
   "source": [
    "## Step 3: Copying the Config\n",
    "\n",
    "Ensure the output of the previous cell is **Found Config: /path/to/config** before proceeding"
   ]
  },
  {
   "cell_type": "code",
   "execution_count": null,
   "id": "be0e7c42-55c8-4c4f-8a41-9343013ab1e3",
   "metadata": {},
   "outputs": [],
   "source": [
    "from shutil import copy\n",
    "from pathlib import Path\n",
    "\n",
    "dest_dir = Path.home().resolve() / \".kube\"\n",
    "dest_dir.mkdir(exist_ok=True)\n",
    "dest_path = dest_dir / \"config\"\n",
    "\n",
    "if dest_path.is_file():\n",
    "    print(\"SUCCESS: Config correctly configured\")\n",
    "elif cfg_path.is_file() and dest_dir.is_dir():\n",
    "    copy(cfg_path, dest_path)\n",
    "    print(\"SUCCESS: Copied config\")\n",
    "else:\n",
    "    print(\"ERROR: Ensure you have correct config path\")"
   ]
  },
  {
   "cell_type": "markdown",
   "id": "6be2abbe-b382-459a-a4c5-578bd0548573",
   "metadata": {},
   "source": [
    "## Step 4: Test KubeCTL\n",
    "\n",
    "Do not proceed until the output of Step 3 is **SUCCESS**"
   ]
  },
  {
   "cell_type": "code",
   "execution_count": null,
   "id": "a74eb48c-5b8e-4399-a1ef-74f2cf176560",
   "metadata": {},
   "outputs": [],
   "source": [
    "! kubectl config view --minify -o jsonpath='{..namespace}'"
   ]
  },
  {
   "cell_type": "markdown",
   "id": "18e64aa2-de78-477b-a6d1-f295599af9ae",
   "metadata": {},
   "source": [
    "If you have completed all the steps above successfully, you should see the name of your namespace, likely something like starting with `gp-engine-`"
   ]
  }
 ],
 "metadata": {
  "kernelspec": {
   "display_name": "Python 3 (ipykernel)",
   "language": "python",
   "name": "python3"
  },
  "language_info": {
   "codemirror_mode": {
    "name": "ipython",
    "version": 3
   },
   "file_extension": ".py",
   "mimetype": "text/x-python",
   "name": "python",
   "nbconvert_exporter": "python",
   "pygments_lexer": "ipython3",
   "version": "3.8.12"
  }
 },
 "nbformat": 4,
 "nbformat_minor": 5
}
